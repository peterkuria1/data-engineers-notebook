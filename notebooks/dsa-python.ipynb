{
 "cells": [
  {
   "cell_type": "markdown",
   "id": "633e70af",
   "metadata": {},
   "source": [
    "Lets delve into each of the following(use data science libraries such as NumPy, pandas, scikitlearn:\n",
    "1. Logarithm (Complexity Analysis)\n",
    "2. Graph Traversals (BFS & DFS)\n",
    "3. Binary Search\n",
    "4. Sliding Window\n",
    "5. Recursion\n",
    "6. 2 Algorithms (Inverting a binary tree & Reverse a Linked List)\n",
    "7. Suffix Trees\n",
    "8. Heaps\n",
    "9.  DP\n",
    "10. Sorting Algorithms (Quick & Merge)"
   ]
  },
  {
   "cell_type": "markdown",
   "id": "334b500c",
   "metadata": {},
   "source": [
    "Let's explore binary search in Python using NumPy arrays. We'll cover both manual implementation and NumPy's built-in optimized methods.\n",
    "\n",
    "1. Manual Binary Search Implementation (Pythonic Approach)"
   ]
  },
  {
   "cell_type": "code",
   "execution_count": 31,
   "id": "19de0c7c",
   "metadata": {},
   "outputs": [
    {
     "name": "stdout",
     "output_type": "stream",
     "text": [
      "3\n"
     ]
    }
   ],
   "source": [
    "import numpy as np\n",
    "\n",
    "def binary_search(arr: np.ndarray, target: int) -> int:\n",
    "    low, high = 0, len(arr) - 1\n",
    "\n",
    "    while low <= high: # set conditional loop\n",
    "        mid = (low + high) // 2 #  half array to get mid of low/high\n",
    "        if arr[mid] == target: # if target is mid\n",
    "            return mid\n",
    "        elif arr[mid] < target: # if array mid is greater than our target\n",
    "            low = mid + 1\n",
    "        else:\n",
    "            high = mid -1\n",
    "        return -1\n",
    "\n",
    "# Example usage:\n",
    "# sorted_np_array = np.array([1, 3, 5, 7, 9])\n",
    "# target = 5\n",
    "sorted_np_array = np.array([3, 5, 6, 9, 10, 13, 15])\n",
    "target = 9\n",
    "print(binary_search(sorted_np_array, target))  # Output: 2"
   ]
  },
  {
   "cell_type": "code",
   "execution_count": null,
   "id": "67808504",
   "metadata": {},
   "outputs": [
    {
     "name": "stdout",
     "output_type": "stream",
     "text": [
      "The numpy time is: 0.0462 in seconds\n",
      "The time take my python loop over the list is: 5.7841 in seconds, which is obviously slower\n"
     ]
    }
   ],
   "source": [
    "# Logarithmic Complexity & Applications\n",
    "\n",
    "import numpy as np\n",
    "import time\n",
    "\n",
    "# generate huge dataset using random\n",
    "sales_data = np.random.randint(1, 2000, 10**7)\n",
    "\n",
    "# time the logarithmic transformation using Numpy\n",
    "start = time.time()\n",
    "log_data = np.log(sales_data)\n",
    "print(f\"The numpy time is: {time.time() - start:.4f} in seconds\")\n",
    "\n",
    "# comparison with python Lists\n",
    "py_sales_dt = sales_data.tolist()\n",
    "start = time.time()\n",
    "log_list = [np.log(x) for x in py_sales_dt]\n",
    "print(f\"The time take my python loop over the list is: {time.time() - start:.4f} in seconds, which is obviously slower\")\n",
    "\n",
    "#Todo:  Log transforms for skewed data in pandas (e.g., df['column'].apply(np.log))\n",
    "\n"
   ]
  },
  {
   "cell_type": "markdown",
   "id": "c9fd3e8d",
   "metadata": {},
   "source": [
    "2. Graph Traversals (BFS & DFS) with Pandas/NumPy\n",
    "Exercise: Implement BFS/DFS on a graph stored as a pandas adjacency matrix"
   ]
  },
  {
   "cell_type": "code",
   "execution_count": 3,
   "id": "605a8a30",
   "metadata": {},
   "outputs": [
    {
     "name": "stdout",
     "output_type": "stream",
     "text": [
      "The BFS: ['A', 'B', 'C', 'D']\n"
     ]
    }
   ],
   "source": [
    "import pandas as pd\n",
    "\n",
    "# create an adjacency matrix using pandas library\n",
    "\n",
    "adj_matrix = pd.DataFrame({\n",
    "    'A': [0, 1, 1, 0],\n",
    "    'B': [1, 0, 0, 1],\n",
    "    'C': [1, 0, 0, 0],\n",
    "    'D': [0, 1, 0, 0]\n",
    "}, index=[ 'A', 'B', 'C', 'D'])\n",
    "\n",
    "# a breath first search BFS using the adjancy matrix\n",
    "def bfs(graph: pd.DataFrame, start: str) -> list:\n",
    "    visited = []\n",
    "    queue = [start]\n",
    "    while queue:\n",
    "        node = queue.pop(0)\n",
    "        if node not in visited:\n",
    "            visited.append(node)\n",
    "            neighbors = graph.columns[graph.loc[node] == 1].tolist()\n",
    "            queue.extend(neighbors)\n",
    "    return visited\n",
    "\n",
    "print(\"The BFS:\", bfs(adj_matrix, 'A')) #  Output: ['A', 'B', 'C', 'D']"
   ]
  },
  {
   "cell_type": "markdown",
   "id": "34337c66",
   "metadata": {},
   "source": [
    "3. Binary Search with Pandas\n",
    "Exercise: Search a sorted pandas DataFrame column using binary search.\n",
    "Use case: Searching time-series data (e.g., stock prices).\n",
    "Integration: Use np.searchsorted with df['value'].values for NumPy-backed columns."
   ]
  },
  {
   "cell_type": "code",
   "execution_count": null,
   "id": "091066cf",
   "metadata": {},
   "outputs": [
    {
     "name": "stdout",
     "output_type": "stream",
     "text": [
      "104\n",
      "Found the pandas array index: 104\n"
     ]
    }
   ],
   "source": [
    "import pandas as pd\n",
    "\n",
    "# define the df\n",
    "df = pd.DataFrame({\n",
    "    'id': [101, 102, 103, 104, 105],\n",
    "    'value': [5, 7, 9, 11, 13]\n",
    "}).sort_values('value').reset_index(drop=True)\n",
    "\n",
    "# binary search on the 'value' column\n",
    "def pandas_binary_search(df: pd.DataFrame, target: int) -> int:\n",
    "    \"\"\"\n",
    "    Efficiency: Binary search (O(log n)) is faster than df[df['value'] == target]\n",
    "    \"\"\"\n",
    "    low, high = 0, len(df) - 1\n",
    "    while low <= high:\n",
    "        mid = (low + high) // 2\n",
    "        if df.loc[mid, 'value'] == target:\n",
    "            return df.loc[mid, 'id']\n",
    "        elif df.loc[mid, 'value'] < target:\n",
    "            low = mid + 1\n",
    "        else:\n",
    "            high = mid -1\n",
    "    return -1\n",
    "\n",
    "print(pandas_binary_search(df, 11))  # Output: 103\n",
    "print(f\"Found the pandas array index: {pandas_binary_search(df, 11)}\") # Output: 104\n",
    "\n"
   ]
  },
  {
   "cell_type": "code",
   "execution_count": null,
   "id": "ca31ef70",
   "metadata": {},
   "outputs": [],
   "source": [
    "# A"
   ]
  }
 ],
 "metadata": {
  "kernelspec": {
   "display_name": ".venv",
   "language": "python",
   "name": "python3"
  },
  "language_info": {
   "codemirror_mode": {
    "name": "ipython",
    "version": 3
   },
   "file_extension": ".py",
   "mimetype": "text/x-python",
   "name": "python",
   "nbconvert_exporter": "python",
   "pygments_lexer": "ipython3",
   "version": "3.11.9"
  }
 },
 "nbformat": 4,
 "nbformat_minor": 5
}
