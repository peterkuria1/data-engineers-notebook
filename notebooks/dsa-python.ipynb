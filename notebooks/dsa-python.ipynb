{
 "cells": [
  {
   "cell_type": "markdown",
   "id": "633e70af",
   "metadata": {},
   "source": [
    "Lets delve into each of the following(use data science libraries such as NumPy, pandas, scikitlearn:\n",
    "1. Logarithm (Complexity Analysis)\n",
    "2. Graph Traversals (BFS & DFS)\n",
    "3. Binary Search\n",
    "4. Sliding Window\n",
    "5. Recursion\n",
    "6. 2 Algorithms (Inverting a binary tree & Reverse a Linked List)\n",
    "7. Suffix Trees\n",
    "8. Heaps\n",
    "9.  DP\n",
    "10. Sorting Algorithms (Quick & Merge)"
   ]
  },
  {
   "cell_type": "markdown",
   "id": "334b500c",
   "metadata": {},
   "source": [
    "Let's explore binary search in Python using NumPy arrays. We'll cover both manual implementation and NumPy's built-in optimized methods.\n",
    "\n",
    "1. Manual Binary Search Implementation (Pythonic Approach)\n",
    "2. more reference on Lists/tuples refer to Page 89, High Performance Python\n",
    "3. O(1) uses Big-Oh Notation to denote how efficient an algorithm is"
   ]
  },
  {
   "cell_type": "code",
   "execution_count": null,
   "id": "19de0c7c",
   "metadata": {},
   "outputs": [
    {
     "name": "stdout",
     "output_type": "stream",
     "text": [
      "3\n"
     ]
    }
   ],
   "source": [
    "import numpy as np\n",
    "\n",
    "# To retrieve the zeroth element in our array which is our target, we go to m + i\n",
    "def binary_search(arr: np.ndarray, target: int) -> int:\n",
    "    \"\"\"\n",
    "    Binary search for sorted array collection using NumPy library\n",
    "    This algorithm has a best-case performance of O(1) : Big-oh Notation\n",
    "    target/key is the number we are looking for\n",
    "\n",
    "\n",
    "    \"\"\"\n",
    "    low, high = 0, len(arr) - 1\n",
    "\n",
    "    while low <= high: # set conditional loop\n",
    "        mid = (low + high) // 2 #  get median: half array to get mid of low/high\n",
    "        if arr[mid] == target: # if target is mid\n",
    "            return mid # return the location of the target\n",
    "        elif arr[mid] < target: # if array mid is greater than our target\n",
    "            low = mid + 1\n",
    "        else:\n",
    "            high = mid -1\n",
    "        return -1 # output the function, the result here means key target not found\n",
    "\n",
    "# Example usage:\n",
    "# sorted_np_array = np.array([1, 3, 5, 7, 9])\n",
    "# target = 5\n",
    "sorted_np_array = np.array([3, 5, 6, 9, 10, 13, 15])\n",
    "target = 9\n",
    "print(binary_search(sorted_np_array, target))  # Output: 3"
   ]
  },
  {
   "cell_type": "code",
   "execution_count": 56,
   "id": "a78a6031",
   "metadata": {},
   "outputs": [],
   "source": [
    "# linear search, where we iterate over every element in the array and check if it is the value we want\n",
    "# This algorithm has a worst-case performance of O(n)\n",
    "def linear_search(needle, array):\n",
    "    for i, item in enumerate(array):\n",
    "        if item ==needle:\n",
    "            return i\n",
    "    return -1"
   ]
  },
  {
   "cell_type": "code",
   "execution_count": null,
   "id": "7ef9437f",
   "metadata": {},
   "outputs": [
    {
     "data": {
      "text/plain": [
       "7"
      ]
     },
     "execution_count": 3,
     "metadata": {},
     "output_type": "execute_result"
    }
   ],
   "source": [
    "# Exercise 1: Given the following data, write an algorithm to find the index of the value 56:\n",
    "# [9, 18, 18, 19, 29, 42, 56, 61, 88, 95]\n",
    "# sorted array\n",
    "arr = [7, 15, 15, 19, 29, 42, 49, 56, 64, 79, 80]\n",
    "\n",
    "\"\"\"\n",
    " # bs algorithm\n",
    "while low <= high is true\n",
    "    mid is half of  sum of low and high\n",
    "    if target is found: current item == item:\n",
    "        return Absolute value of the  mid: abs(mid)\n",
    "    if the number is less than mid\n",
    "        low is mid + 1\n",
    "    else high = mid -1\n",
    "return -1 # not found\n",
    "\"\"\"\n",
    "\n",
    "def binary_search(arr: int, target: int) ->int:\n",
    "    \"\"\"\n",
    "    binary search for sorted array in pure python. Note the array must be sorted in order\n",
    "\n",
    "    \"\"\"\n",
    "    low, high = 0, len(arr) - 1  # left equal 0 and right = len(arr) - 1\n",
    "    while low <= high:\n",
    "        mid = (low + high) // 2\n",
    "        if arr[mid] == target:\n",
    "            return mid\n",
    "        elif arr[mid] < target:\n",
    "            low = mid + 1\n",
    "        else:\n",
    "            high = mid - 1\n",
    "    return -1\n",
    "\n",
    "binary_search(arr, 56)"
   ]
  },
  {
   "cell_type": "code",
   "execution_count": 30,
   "id": "67808504",
   "metadata": {},
   "outputs": [
    {
     "name": "stdout",
     "output_type": "stream",
     "text": [
      "The numpy time is: 0.3357 in seconds\n",
      "The time take my python loop over the list is: 9.0745 in seconds, which is obviously slower\n"
     ]
    }
   ],
   "source": [
    "# Logarithmic Complexity & Applications\n",
    "\n",
    "import numpy as np\n",
    "import time\n",
    "\n",
    "# generate huge dataset using random\n",
    "sales_data = np.random.randint(1, 2000, 10**7)\n",
    "\n",
    "# time the logarithmic transformation using Numpy\n",
    "start = time.time()\n",
    "log_data = np.log(sales_data)\n",
    "print(f\"The numpy time is: {time.time() - start:.4f} in seconds\")\n",
    "\n",
    "# comparison with python Lists\n",
    "py_sales_dt = sales_data.tolist()\n",
    "start = time.time()\n",
    "log_list = [np.log(x) for x in py_sales_dt]\n",
    "print(f\"The time take my python loop over the list is: {time.time() - start:.4f} in seconds, which is obviously slower\")\n",
    "\n",
    "#Todo:  Log transforms for skewed data in pandas (e.g., df['column'].apply(np.log))\n"
   ]
  },
  {
   "cell_type": "markdown",
   "id": "c9fd3e8d",
   "metadata": {},
   "source": [
    "2. Graph Traversals (BFS & DFS) with Pandas/NumPy\n",
    "Exercise: Implement BFS/DFS on a graph stored as a pandas adjacency matrix"
   ]
  },
  {
   "cell_type": "code",
   "execution_count": null,
   "id": "605a8a30",
   "metadata": {},
   "outputs": [
    {
     "name": "stdout",
     "output_type": "stream",
     "text": [
      "The BFS: ['A', 'B', 'C', 'D']\n",
      "The BFS: ['C', 'A', 'B', 'D']\n"
     ]
    }
   ],
   "source": [
    "\"\"\"\n",
    "Breadth-first search (BFS) is a graph traversal algorithm that explores a graph or tree level by level to ensure the shortest path in unweighted networks. Starting from a specified source node, BFS visits all its immediate neighbors before moving on to the next level of nodes.\n",
    "\"\"\"\n",
    "\n",
    "import pandas as pd\n",
    "\n",
    "# create an adjacency matrix using pandas library\n",
    "adj_matrix = pd.DataFrame({\n",
    "    'A': [0, 1, 1, 0],\n",
    "    'B': [1, 0, 0, 1],\n",
    "    'C': [1, 0, 0, 0],\n",
    "    'D': [0, 1, 0, 0]\n",
    "}, index=[ 'A', 'B', 'C', 'D'])\n",
    "\n",
    "# a breadth first search BFS using the adjacency matrix\n",
    "def bfs(graph: pd.DataFrame, start: str) -> list:\n",
    "    visited = []\n",
    "    queue = [start]\n",
    "    while queue:\n",
    "        node = queue.pop(0)\n",
    "        if node not in visited:\n",
    "            visited.append(node)\n",
    "            neighbors = graph.columns[graph.loc[node] == 1].tolist()\n",
    "            queue.extend(neighbors)\n",
    "    return visited\n",
    "\n",
    "print(\"The BFS:\", bfs(adj_matrix, 'A')) #  Output: ['A', 'B', 'C', 'D']\n",
    "print(\"The BFS:\", bfs(adj_matrix, \"C\"))  #  Output: ['C', 'A', 'B', 'D']"
   ]
  },
  {
   "cell_type": "markdown",
   "id": "34337c66",
   "metadata": {},
   "source": [
    "3. Binary Search with Pandas\n",
    "Exercise: Search a sorted pandas DataFrame column using binary search.\n",
    "Use case: Searching time-series data (e.g., stock prices).\n",
    "Integration: Use np.searchsorted with df['value'].values for NumPy-backed columns."
   ]
  },
  {
   "cell_type": "code",
   "execution_count": 23,
   "id": "091066cf",
   "metadata": {},
   "outputs": [
    {
     "name": "stdout",
     "output_type": "stream",
     "text": [
      "Found value with id: 104 in 0.000267 seconds\n",
      "Time complexity: O(log n) where n = 5\n",
      "Space complexity: O(1) (constant space)\n"
     ]
    }
   ],
   "source": [
    "import pandas as pd\n",
    "import time\n",
    "\n",
    "# define the df\n",
    "df = pd.DataFrame({\n",
    "    'id': [101, 102, 103, 104, 105],\n",
    "    'value': [5, 7, 9, 11, 13]\n",
    "}).sort_values('value').reset_index(drop=True)\n",
    "\n",
    "# binary search on the 'value' column\n",
    "def pandas_binary_search(df: pd.DataFrame, target: int) -> int:\n",
    "    \"\"\"\n",
    "    Efficiency: Binary search (O(log n)) is faster than df[df['value'] == target]\n",
    "    \"\"\"\n",
    "    low, high = 0, len(df) - 1\n",
    "    while low <= high:\n",
    "        mid = (low + high) // 2\n",
    "        if df.loc[mid, 'value'] == target:\n",
    "            return df.loc[mid, 'id']\n",
    "        elif df.loc[mid, 'value'] < target:\n",
    "            low = mid + 1\n",
    "        else:\n",
    "            high = mid -1\n",
    "    return -1\n",
    "\n",
    "# Time measurement and execution\n",
    "start = time.time()\n",
    "result = pandas_binary_search(df, 11)\n",
    "elapsed = time.time() - start\n",
    "\n",
    "# print(pandas_binary_search(df, 11))  # Output: 103\n",
    "# print(f\"Found the pandas array index: {pandas_binary_search(df, 11)}\") # Output: 104\n",
    "\n",
    "print(f\"Found value with id: {result} in {elapsed:.6f} seconds\")\n",
    "print(f\"Time complexity: O(log n) where n = {len(df)}\")\n",
    "print(f\"Space complexity: O(1) (constant space)\")\n"
   ]
  },
  {
   "cell_type": "markdown",
   "id": "ec4f336f",
   "metadata": {},
   "source": [
    "##  search and sorting techniques, functions\n",
    "Numpy functions:\n",
    "numpy.sort()\n",
    "Numpy matrix.sort(), e.g np.matrix('[4, 1; 12, 3]') \n",
    "np.sort_complex(arr) | sort a complex array\n",
    "Pandas searchsorted: result = series.searchsorted(value = val)\n",
    "re.search() in Python | regex: find patterns in strings"
   ]
  },
  {
   "cell_type": "code",
   "execution_count": 56,
   "id": "6543f819",
   "metadata": {},
   "outputs": [
    {
     "name": "stdout",
     "output_type": "stream",
     "text": [
      "Key target found at index: 3\n"
     ]
    }
   ],
   "source": [
    "# Using NumPy's built-in searchsorted() function\n",
    "\n",
    "# Syntax  :  numpy.searchsorted(arr, num, side=’left’, sorter=None)\n",
    "\n",
    "import numpy as np\n",
    "sorted_np_array = np.array([3, 5, 8, 13, 15, 17, 20])\n",
    "target = 13\n",
    "\n",
    "# bisect the left intersertion point\n",
    "index = np.searchsorted(sorted_np_array, target)\n",
    "\n",
    "if index < len(sorted_np_array) and sorted_np_array[index] == target:\n",
    "    # TypeError: 'numpy.ndarray' object is not callable\n",
    "    print(f\"Key target found at index: {index}\")\n",
    "else:\n",
    "    print(\"Sorry, target not found\")"
   ]
  },
  {
   "cell_type": "code",
   "execution_count": 48,
   "id": "ca31ef70",
   "metadata": {},
   "outputs": [
    {
     "name": "stdout",
     "output_type": "stream",
     "text": [
      "Length of x: 1000\n",
      "Total elements: 1000000\n",
      "calculate_z_serial_purepython took 2.9984688758850098 seconds\n"
     ]
    }
   ],
   "source": [
    "\"\"\"Julia set generator without optional PIL-based image drawing\"\"\"\n",
    "import time\n",
    "# area of complex space to investigate\n",
    "x1, x2, y1, y2 = -1.8, 1.8, -1.8, 1.8\n",
    "c_real, c_imag = -0.62772, -.42193\n",
    "\n",
    "def calc_pure_python(desired_width, max_iterations):\n",
    "    \"\"\"Create a list of complex coordinates (zs) and complex parameters (cs),\n",
    "    build Julia set\"\"\"\n",
    "    x_step = (x2 - x1) / desired_width\n",
    "    y_step = (y1 - y2) / desired_width\n",
    "    x = []\n",
    "    y = []\n",
    "    ycoord = y2\n",
    "    while ycoord > y1:\n",
    "        y.append(ycoord)\n",
    "        ycoord += y_step\n",
    "        xcoord = x1\n",
    "    while xcoord < x2:\n",
    "        x.append(xcoord)\n",
    "        xcoord += x_step\n",
    "    # build a list of coordinates and the initial condition for each cell.\n",
    "    # Note that our initial condition is a constant and could easily be removed,\n",
    "    # we use it to simulate a real-world scenario with several inputs to our\n",
    "    # function\n",
    "    zs = []\n",
    "    cs = []\n",
    "    for ycoord in y:\n",
    "        for xcoord in x:\n",
    "            zs.append(complex(xcoord, ycoord))\n",
    "            cs.append(complex(c_real, c_imag))\n",
    "    print(\"Length of x:\", len(x))\n",
    "    print(\"Total elements:\", len(zs))\n",
    "    start_time = time.time()\n",
    "    output = calculate_z_serial_purepython(max_iterations, zs, cs)\n",
    "    end_time = time.time()\n",
    "    secs = end_time - start_time\n",
    "    print(calculate_z_serial_purepython.__name__ + \" took\", secs, \"seconds\")\n",
    "    # This sum is expected for a 1000^2 grid with 300 iterations\n",
    "    # It ensures that our code evolves exactly as we'd intended\n",
    "    assert sum(output) == 33219980\n",
    "\n",
    "\n",
    "def calculate_z_serial_purepython(maxiter, zs, cs):\n",
    "    \"\"\"Calculate output list using Julia update rule\"\"\"\n",
    "    output = [0] * len(zs)\n",
    "    for i in range(len(zs)):\n",
    "        n = 0\n",
    "        z = zs[i]\n",
    "        c = cs[i]\n",
    "        while abs(z) < 2 and n < maxiter:\n",
    "            z = z * z + c\n",
    "            n += 1\n",
    "        output[i] = n\n",
    "    return output\n",
    "\n",
    "calc_pure_python(desired_width=1000, max_iterations=300)\n",
    "\n",
    "# if __name__ == \"__main__\":\n",
    "#     # Calculate the Julia set using a pure Python solution with\n",
    "#     # reasonable defaults for a laptop\n",
    "#     calc_pure_python(desired_width=1000, max_iterations=300)"
   ]
  },
  {
   "cell_type": "code",
   "execution_count": 49,
   "id": "f7f60a9d",
   "metadata": {},
   "outputs": [
    {
     "name": "stdout",
     "output_type": "stream",
     "text": [
      "Length of x: 1000\n",
      "Total elements: 1000000\n",
      "@timefn: calculate_z_serial_purepython took 3.124133825302124 seconds\n",
      "calculate_z_serial_purepython took 3.1243324279785156 seconds\n"
     ]
    }
   ],
   "source": [
    "# using the a python decorator to automate timing measure and profile codes(will slow down code)\n",
    "from functools import wraps\n",
    "\n",
    "def timefn(fn):\n",
    "    @wraps(fn)\n",
    "    def measure_time(*args, **kwargs):\n",
    "        t1 = time.time()\n",
    "        result = fn(*args, **kwargs)\n",
    "        t2 = time.time()\n",
    "        print(f\"@timefn: {fn.__name__} took {t2 - t1} seconds\")\n",
    "        return result\n",
    "    return measure_time\n",
    "\n",
    "@timefn\n",
    "def calculate_z_serial_purepython(maxiter, zs, cs):\n",
    "    \"\"\"Calculate output list using Julia update rule\"\"\"\n",
    "    output = [0] * len(zs)\n",
    "    for i in range(len(zs)):\n",
    "        n = 0\n",
    "        z = zs[i]\n",
    "        c = cs[i]\n",
    "        while abs(z) < 2 and n < maxiter:\n",
    "            z = z * z + c\n",
    "            n += 1\n",
    "        output[i] = n\n",
    "    return output\n",
    "\n",
    "calc_pure_python(desired_width=1000, max_iterations=300)"
   ]
  },
  {
   "cell_type": "code",
   "execution_count": 54,
   "id": "75ff6b24",
   "metadata": {},
   "outputs": [
    {
     "name": "stdout",
     "output_type": "stream",
     "text": [
      "Length of x: 1000\n",
      "Total elements: 1000000\n",
      "calculate_z_serial_purepython took 2.9718430042266846 seconds\n"
     ]
    }
   ],
   "source": [
    "# Add a no-op @profile decorator to the namespace while unit testing\n",
    "# check for line_profiler or memory_profiler in the local scope, both\n",
    "# are injected by their respective tools or they're absent\n",
    "# if these tools aren't being used (in which case we need to substitute\n",
    "# a dummy @profile decorator)\n",
    "\n",
    "# No-op @profile decorators are used to prevent unit-tests failing with a NameError\n",
    "# ine_profiler or memory_profiler\n",
    "if 'line_profiler' not in dir() and 'profile' not in dir():\n",
    "    def profile(func):\n",
    "        return func\n",
    "\n",
    "@profile\n",
    "def calculate_z_serial_purepython(maxiter, zs, cs):\n",
    "    \"\"\"Calculate output list using Julia update rule\"\"\"\n",
    "    output = [0] * len(zs)\n",
    "    for i in range(len(zs)):\n",
    "        n = 0\n",
    "        z = zs[i]\n",
    "        c = cs[i]\n",
    "        while abs(z) < 2 and n < maxiter:\n",
    "            z = z * z + c\n",
    "            n += 1\n",
    "        output[i] = n\n",
    "    return output\n",
    "\n",
    "calc_pure_python(desired_width=1000, max_iterations=300)\n"
   ]
  },
  {
   "cell_type": "code",
   "execution_count": 55,
   "id": "2a5b8a60",
   "metadata": {},
   "outputs": [
    {
     "name": "stdout",
     "output_type": "stream",
     "text": [
      "Example call `some_fn(2)` == 4\n"
     ]
    }
   ],
   "source": [
    "import time\n",
    "\n",
    "def test_some_fn():\n",
    "    \"\"\"Check basic behaviors for our function\"\"\"\n",
    "    assert some_fn(2) == 4\n",
    "    assert some_fn(1) == 1\n",
    "    assert some_fn(-1) == 1\n",
    "\n",
    "@profile\n",
    "def some_fn(useful_input):\n",
    "    \"\"\"An expensive function that we wish to both test and profile\"\"\"\n",
    "    # artificial \"we're doing something clever and expensive\" delay\n",
    "    time.sleep(1)\n",
    "    return useful_input ** 2\n",
    "\n",
    "print(f\"Example call `some_fn(2)` == {some_fn(2)}\")\n",
    "\n",
    "# if __name__ == \"__main__\":\n",
    "#     print(f\"Example call `some_fn(2)` == {some_fn(2)}\")"
   ]
  },
  {
   "cell_type": "code",
   "execution_count": null,
   "id": "05921759",
   "metadata": {},
   "outputs": [],
   "source": []
  }
 ],
 "metadata": {
  "kernelspec": {
   "display_name": ".venv",
   "language": "python",
   "name": "python3"
  },
  "language_info": {
   "codemirror_mode": {
    "name": "ipython",
    "version": 3
   },
   "file_extension": ".py",
   "mimetype": "text/x-python",
   "name": "python",
   "nbconvert_exporter": "python",
   "pygments_lexer": "ipython3",
   "version": "3.11.9"
  }
 },
 "nbformat": 4,
 "nbformat_minor": 5
}
