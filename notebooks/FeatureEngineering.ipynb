{
 "cells": [
  {
   "cell_type": "markdown",
   "id": "fc3256c4",
   "metadata": {},
   "source": [
    "# FEATURE ENGINEERING"
   ]
  },
  {
   "cell_type": "code",
   "execution_count": 6,
   "id": "02819159",
   "metadata": {},
   "outputs": [],
   "source": [
    "# install dependancies and import them\n",
    "\n",
    "# uv add numpy pandas scikit-learn seaborn\n",
    "# uv add xgboost matplotlib\n",
    "# uv add joblib  pyproj  Jinja2\n",
    "\n",
    "import joblib\n",
    "import os\n",
    "import time\n",
    "\n",
    "import pandas as pd\n",
    "import numpy as np\n",
    "import matplotlib.pyplot as plt\n",
    "import seaborn as sns\n",
    "from math import radians\n",
    "\n",
    "import xgboost as xgb\n",
    "from sklearn.metrics import confusion_matrix\n",
    "from sklearn.metrics import f1_score\n",
    "\n",
    "# Mute warnings\n",
    "import warnings\n",
    "warnings.filterwarnings(\"ignore\")\n"
   ]
  },
  {
   "cell_type": "code",
   "execution_count": 7,
   "id": "d6043596",
   "metadata": {},
   "outputs": [],
   "source": [
    "df = pd.read_csv('../data/credit_cards.csv')"
   ]
  },
  {
   "cell_type": "code",
   "execution_count": 8,
   "id": "106f18d8",
   "metadata": {},
   "outputs": [
    {
     "data": {
      "text/html": [
       "<style type=\"text/css\">\n",
       "</style>\n",
       "<table id=\"T_673ba\" style='width:100%'>\n",
       "  <caption> Stastistical summary of our data</caption>\n",
       "  <thead>\n",
       "    <tr>\n",
       "      <th class=\"blank level0\" >&nbsp;</th>\n",
       "      <th id=\"T_673ba_level0_col0\" class=\"col_heading level0 col0\" >cc_num</th>\n",
       "    </tr>\n",
       "  </thead>\n",
       "  <tbody>\n",
       "    <tr>\n",
       "      <th id=\"T_673ba_level0_row0\" class=\"row_heading level0 row0\" >count</th>\n",
       "      <td id=\"T_673ba_row0_col0\" class=\"data row0 col0\" >2000.000000</td>\n",
       "    </tr>\n",
       "    <tr>\n",
       "      <th id=\"T_673ba_level0_row1\" class=\"row_heading level0 row1\" >mean</th>\n",
       "      <td id=\"T_673ba_row1_col0\" class=\"data row1 col0\" >4496581684691109.000000</td>\n",
       "    </tr>\n",
       "    <tr>\n",
       "      <th id=\"T_673ba_level0_row2\" class=\"row_heading level0 row2\" >std</th>\n",
       "      <td id=\"T_673ba_row2_col0\" class=\"data row2 col0\" >290025534516033.750000</td>\n",
       "    </tr>\n",
       "    <tr>\n",
       "      <th id=\"T_673ba_level0_row3\" class=\"row_heading level0 row3\" >min</th>\n",
       "      <td id=\"T_673ba_row3_col0\" class=\"data row3 col0\" >4000323325541926.000000</td>\n",
       "    </tr>\n",
       "    <tr>\n",
       "      <th id=\"T_673ba_level0_row4\" class=\"row_heading level0 row4\" >25%</th>\n",
       "      <td id=\"T_673ba_row4_col0\" class=\"data row4 col0\" >4242448638360148.000000</td>\n",
       "    </tr>\n",
       "    <tr>\n",
       "      <th id=\"T_673ba_level0_row5\" class=\"row_heading level0 row5\" >50%</th>\n",
       "      <td id=\"T_673ba_row5_col0\" class=\"data row5 col0\" >4501556124918028.000000</td>\n",
       "    </tr>\n",
       "    <tr>\n",
       "      <th id=\"T_673ba_level0_row6\" class=\"row_heading level0 row6\" >75%</th>\n",
       "      <td id=\"T_673ba_row6_col0\" class=\"data row6 col0\" >4746010189628098.000000</td>\n",
       "    </tr>\n",
       "    <tr>\n",
       "      <th id=\"T_673ba_level0_row7\" class=\"row_heading level0 row7\" >max</th>\n",
       "      <td id=\"T_673ba_row7_col0\" class=\"data row7 col0\" >4999763787658689.000000</td>\n",
       "    </tr>\n",
       "  </tbody>\n",
       "</table>\n"
      ],
      "text/plain": [
       "<pandas.io.formats.style.Styler at 0x7fbbc891f110>"
      ]
     },
     "execution_count": 8,
     "metadata": {},
     "output_type": "execute_result"
    }
   ],
   "source": [
    "# df.describe()\n",
    "\n",
    "# Summary statistics\n",
    "df.describe().style.set_caption(\" Stastistical summary of our data\").set_table_attributes(\"style='width:100%'\")"
   ]
  },
  {
   "cell_type": "code",
   "execution_count": 9,
   "id": "4fc8f5d9",
   "metadata": {},
   "outputs": [
    {
     "data": {
      "text/html": [
       "<style type=\"text/css\">\n",
       "</style>\n",
       "<table id=\"T_17876\" style=\"width:100%\">\n",
       "  <caption>Dataset Preview</caption>\n",
       "  <thead>\n",
       "    <tr>\n",
       "      <th class=\"blank level0\" >&nbsp;</th>\n",
       "      <th id=\"T_17876_level0_col0\" class=\"col_heading level0 col0\" >cc_num</th>\n",
       "      <th id=\"T_17876_level0_col1\" class=\"col_heading level0 col1\" >provider</th>\n",
       "      <th id=\"T_17876_level0_col2\" class=\"col_heading level0 col2\" >expires</th>\n",
       "    </tr>\n",
       "  </thead>\n",
       "  <tbody>\n",
       "    <tr>\n",
       "      <th id=\"T_17876_level0_row0\" class=\"row_heading level0 row0\" >1262</th>\n",
       "      <td id=\"T_17876_row0_col0\" class=\"data row0 col0\" >4841339097221193</td>\n",
       "      <td id=\"T_17876_row0_col1\" class=\"data row0 col1\" >visa</td>\n",
       "      <td id=\"T_17876_row0_col2\" class=\"data row0 col2\" >04/23</td>\n",
       "    </tr>\n",
       "    <tr>\n",
       "      <th id=\"T_17876_level0_row1\" class=\"row_heading level0 row1\" >579</th>\n",
       "      <td id=\"T_17876_row1_col0\" class=\"data row1 col0\" >4006950550652806</td>\n",
       "      <td id=\"T_17876_row1_col1\" class=\"data row1 col1\" >visa</td>\n",
       "      <td id=\"T_17876_row1_col2\" class=\"data row1 col2\" >05/23</td>\n",
       "    </tr>\n",
       "    <tr>\n",
       "      <th id=\"T_17876_level0_row2\" class=\"row_heading level0 row2\" >928</th>\n",
       "      <td id=\"T_17876_row2_col0\" class=\"data row2 col0\" >4492964858437522</td>\n",
       "      <td id=\"T_17876_row2_col1\" class=\"data row2 col1\" >visa</td>\n",
       "      <td id=\"T_17876_row2_col2\" class=\"data row2 col2\" >01/26</td>\n",
       "    </tr>\n",
       "    <tr>\n",
       "      <th id=\"T_17876_level0_row3\" class=\"row_heading level0 row3\" >1802</th>\n",
       "      <td id=\"T_17876_row3_col0\" class=\"data row3 col0\" >4323637726754121</td>\n",
       "      <td id=\"T_17876_row3_col1\" class=\"data row3 col1\" >visa</td>\n",
       "      <td id=\"T_17876_row3_col2\" class=\"data row3 col2\" >12/24</td>\n",
       "    </tr>\n",
       "    <tr>\n",
       "      <th id=\"T_17876_level0_row4\" class=\"row_heading level0 row4\" >1577</th>\n",
       "      <td id=\"T_17876_row4_col0\" class=\"data row4 col0\" >4568903643659676</td>\n",
       "      <td id=\"T_17876_row4_col1\" class=\"data row4 col1\" >visa</td>\n",
       "      <td id=\"T_17876_row4_col2\" class=\"data row4 col2\" >05/26</td>\n",
       "    </tr>\n",
       "    <tr>\n",
       "      <th id=\"T_17876_level0_row5\" class=\"row_heading level0 row5\" >635</th>\n",
       "      <td id=\"T_17876_row5_col0\" class=\"data row5 col0\" >4735581663664541</td>\n",
       "      <td id=\"T_17876_row5_col1\" class=\"data row5 col1\" >visa</td>\n",
       "      <td id=\"T_17876_row5_col2\" class=\"data row5 col2\" >12/25</td>\n",
       "    </tr>\n",
       "    <tr>\n",
       "      <th id=\"T_17876_level0_row6\" class=\"row_heading level0 row6\" >1129</th>\n",
       "      <td id=\"T_17876_row6_col0\" class=\"data row6 col0\" >4790303908442712</td>\n",
       "      <td id=\"T_17876_row6_col1\" class=\"data row6 col1\" >visa</td>\n",
       "      <td id=\"T_17876_row6_col2\" class=\"data row6 col2\" >09/24</td>\n",
       "    </tr>\n",
       "    <tr>\n",
       "      <th id=\"T_17876_level0_row7\" class=\"row_heading level0 row7\" >307</th>\n",
       "      <td id=\"T_17876_row7_col0\" class=\"data row7 col0\" >4689840185625851</td>\n",
       "      <td id=\"T_17876_row7_col1\" class=\"data row7 col1\" >visa</td>\n",
       "      <td id=\"T_17876_row7_col2\" class=\"data row7 col2\" >09/26</td>\n",
       "    </tr>\n",
       "    <tr>\n",
       "      <th id=\"T_17876_level0_row8\" class=\"row_heading level0 row8\" >385</th>\n",
       "      <td id=\"T_17876_row8_col0\" class=\"data row8 col0\" >4264513191145288</td>\n",
       "      <td id=\"T_17876_row8_col1\" class=\"data row8 col1\" >visa</td>\n",
       "      <td id=\"T_17876_row8_col2\" class=\"data row8 col2\" >12/26</td>\n",
       "    </tr>\n",
       "    <tr>\n",
       "      <th id=\"T_17876_level0_row9\" class=\"row_heading level0 row9\" >261</th>\n",
       "      <td id=\"T_17876_row9_col0\" class=\"data row9 col0\" >4171588685794769</td>\n",
       "      <td id=\"T_17876_row9_col1\" class=\"data row9 col1\" >visa</td>\n",
       "      <td id=\"T_17876_row9_col2\" class=\"data row9 col2\" >08/24</td>\n",
       "    </tr>\n",
       "    <tr>\n",
       "      <th id=\"T_17876_level0_row10\" class=\"row_heading level0 row10\" >1664</th>\n",
       "      <td id=\"T_17876_row10_col0\" class=\"data row10 col0\" >4995668454124895</td>\n",
       "      <td id=\"T_17876_row10_col1\" class=\"data row10 col1\" >visa</td>\n",
       "      <td id=\"T_17876_row10_col2\" class=\"data row10 col2\" >07/23</td>\n",
       "    </tr>\n",
       "    <tr>\n",
       "      <th id=\"T_17876_level0_row11\" class=\"row_heading level0 row11\" >909</th>\n",
       "      <td id=\"T_17876_row11_col0\" class=\"data row11 col0\" >4175301378967155</td>\n",
       "      <td id=\"T_17876_row11_col1\" class=\"data row11 col1\" >visa</td>\n",
       "      <td id=\"T_17876_row11_col2\" class=\"data row11 col2\" >10/24</td>\n",
       "    </tr>\n",
       "    <tr>\n",
       "      <th id=\"T_17876_level0_row12\" class=\"row_heading level0 row12\" >1421</th>\n",
       "      <td id=\"T_17876_row12_col0\" class=\"data row12 col0\" >4124415722473843</td>\n",
       "      <td id=\"T_17876_row12_col1\" class=\"data row12 col1\" >visa</td>\n",
       "      <td id=\"T_17876_row12_col2\" class=\"data row12 col2\" >08/26</td>\n",
       "    </tr>\n",
       "    <tr>\n",
       "      <th id=\"T_17876_level0_row13\" class=\"row_heading level0 row13\" >1287</th>\n",
       "      <td id=\"T_17876_row13_col0\" class=\"data row13 col0\" >4023012131703662</td>\n",
       "      <td id=\"T_17876_row13_col1\" class=\"data row13 col1\" >visa</td>\n",
       "      <td id=\"T_17876_row13_col2\" class=\"data row13 col2\" >09/22</td>\n",
       "    </tr>\n",
       "    <tr>\n",
       "      <th id=\"T_17876_level0_row14\" class=\"row_heading level0 row14\" >92</th>\n",
       "      <td id=\"T_17876_row14_col0\" class=\"data row14 col0\" >4391552135393444</td>\n",
       "      <td id=\"T_17876_row14_col1\" class=\"data row14 col1\" >visa</td>\n",
       "      <td id=\"T_17876_row14_col2\" class=\"data row14 col2\" >09/26</td>\n",
       "    </tr>\n",
       "  </tbody>\n",
       "</table>\n"
      ],
      "text/plain": [
       "<pandas.io.formats.style.Styler at 0x7fbc3a3ea950>"
      ]
     },
     "execution_count": 9,
     "metadata": {},
     "output_type": "execute_result"
    }
   ],
   "source": [
    "df.sample(15).style.set_caption(\"Dataset Preview\").set_table_attributes('style=\"width:100%\"')"
   ]
  },
  {
   "cell_type": "code",
   "execution_count": 10,
   "id": "b044b46c",
   "metadata": {},
   "outputs": [
    {
     "name": "stdout",
     "output_type": "stream",
     "text": [
      " The Null values ares: (2000, 3)\n"
     ]
    }
   ],
   "source": [
    "# view dataset shape\n",
    "print(f\" The Null values ares: {df.shape}\")"
   ]
  },
  {
   "cell_type": "code",
   "execution_count": 11,
   "id": "badead67",
   "metadata": {},
   "outputs": [
    {
     "data": {
      "text/plain": [
       "np.float64(4501556124918028.0)"
      ]
     },
     "execution_count": 11,
     "metadata": {},
     "output_type": "execute_result"
    }
   ],
   "source": [
    "df['cc_num'].median()\n"
   ]
  },
  {
   "cell_type": "code",
   "execution_count": 12,
   "id": "bfd2e2b6",
   "metadata": {},
   "outputs": [
    {
     "data": {
      "image/png": "[encoded data removed]",
      "text/plain": [
       "<Figure size 1000x500 with 1 Axes>"
      ]
     },
     "metadata": {},
     "output_type": "display_data"
    }
   ],
   "source": [
    "df.cc_num.value_counts().head(10).plot(kind='barh', figsize=(10, 5), color='orange')\n",
    "plt.title('Top 10 Credit Card Numbers')\n",
    "plt.xlabel('Count')\n",
    "plt.ylabel('Credit Card Number')\n",
    "plt.show()\n",
    "# check for null values"
   ]
  },
  {
   "cell_type": "code",
   "execution_count": 13,
   "id": "bdd4b34c",
   "metadata": {},
   "outputs": [
    {
     "name": "stdout",
     "output_type": "stream",
     "text": [
      " Null percentage is: cc_num      0.0\n",
      "provider    0.0\n",
      "expires     0.0\n",
      "dtype: float64\n"
     ]
    }
   ],
   "source": [
    "# View and drop missing values\n",
    "\n",
    "df.isnull().sum\n",
    "null_percentage = df.isnull().sum() * 100 / len(df)\n",
    "print(f\" Null percentage is: {null_percentage}\")"
   ]
  },
  {
   "cell_type": "code",
   "execution_count": 21,
   "id": "b72e12de",
   "metadata": {},
   "outputs": [],
   "source": [
    "# deep_copy of dataframe\n",
    "df_deep = df.copy(deep=True)\n",
    "data = df_deep.columns\n",
    "\n",
    "df_shallow = df.copy(deep=False)"
   ]
  },
  {
   "cell_type": "code",
   "execution_count": 22,
   "id": "ab08ae89",
   "metadata": {},
   "outputs": [
    {
     "data": {
      "text/html": [
       "<div>\n",
       "<style scoped>\n",
       "    .dataframe tbody tr th:only-of-type {\n",
       "        vertical-align: middle;\n",
       "    }\n",
       "\n",
       "    .dataframe tbody tr th {\n",
       "        vertical-align: top;\n",
       "    }\n",
       "\n",
       "    .dataframe thead th {\n",
       "        text-align: right;\n",
       "    }\n",
       "</style>\n",
       "<table border=\"1\" class=\"dataframe\">\n",
       "  <thead>\n",
       "    <tr style=\"text-align: right;\">\n",
       "      <th></th>\n",
       "      <th>cc_num</th>\n",
       "      <th>provider</th>\n",
       "      <th>expires</th>\n",
       "    </tr>\n",
       "  </thead>\n",
       "  <tbody>\n",
       "    <tr>\n",
       "      <th>0</th>\n",
       "      <td>4796807885357879</td>\n",
       "      <td>visa</td>\n",
       "      <td>05/23</td>\n",
       "    </tr>\n",
       "    <tr>\n",
       "      <th>1</th>\n",
       "      <td>4529266636192966</td>\n",
       "      <td>visa</td>\n",
       "      <td>03/22</td>\n",
       "    </tr>\n",
       "    <tr>\n",
       "      <th>2</th>\n",
       "      <td>4922690008243953</td>\n",
       "      <td>visa</td>\n",
       "      <td>02/27</td>\n",
       "    </tr>\n",
       "    <tr>\n",
       "      <th>3</th>\n",
       "      <td>4897369589533543</td>\n",
       "      <td>visa</td>\n",
       "      <td>04/22</td>\n",
       "    </tr>\n",
       "    <tr>\n",
       "      <th>4</th>\n",
       "      <td>4848518335893425</td>\n",
       "      <td>visa</td>\n",
       "      <td>10/26</td>\n",
       "    </tr>\n",
       "  </tbody>\n",
       "</table>\n",
       "</div>"
      ],
      "text/plain": [
       "             cc_num provider expires\n",
       "0  4796807885357879     visa   05/23\n",
       "1  4529266636192966     visa   03/22\n",
       "2  4922690008243953     visa   02/27\n",
       "3  4897369589533543     visa   04/22\n",
       "4  4848518335893425     visa   10/26"
      ]
     },
     "execution_count": 22,
     "metadata": {},
     "output_type": "execute_result"
    }
   ],
   "source": [
    "# data_df = df_shallow.drop('Unnamed')\n",
    "\n",
    "df_shallow.head()"
   ]
  },
  {
   "cell_type": "code",
   "execution_count": 17,
   "id": "c4183bf3",
   "metadata": {},
   "outputs": [],
   "source": [
    "# remove duplicates if available\n",
    "\n",
    "def drop_duplicates(inplace=True):\n",
    "    if df.duplicated().sum() > 0:\n",
    "        df.drop_duplicates(inplace=True)\n",
    "        print(\"Duplicates removed\")\n",
    "\n",
    "drop_duplicates()"
   ]
  },
  {
   "cell_type": "code",
   "execution_count": null,
   "id": "58e08310",
   "metadata": {},
   "outputs": [
    {
     "data": {
      "text/html": [
       "<style type=\"text/css\">\n",
       "</style>\n",
       "<table id=\"T_535ec\" style=\"width:100%\">\n",
       "  <caption>Dataset Preview</caption>\n",
       "  <thead>\n",
       "    <tr>\n",
       "      <th class=\"blank level0\" >&nbsp;</th>\n",
       "      <th id=\"T_535ec_level0_col0\" class=\"col_heading level0 col0\" >cc_num</th>\n",
       "      <th id=\"T_535ec_level0_col1\" class=\"col_heading level0 col1\" >provider</th>\n",
       "      <th id=\"T_535ec_level0_col2\" class=\"col_heading level0 col2\" >expires</th>\n",
       "    </tr>\n",
       "  </thead>\n",
       "  <tbody>\n",
       "    <tr>\n",
       "      <th id=\"T_535ec_level0_row0\" class=\"row_heading level0 row0\" >1990</th>\n",
       "      <td id=\"T_535ec_row0_col0\" class=\"data row0 col0\" >4236211236657640</td>\n",
       "      <td id=\"T_535ec_row0_col1\" class=\"data row0 col1\" >visa</td>\n",
       "      <td id=\"T_535ec_row0_col2\" class=\"data row0 col2\" >07/24</td>\n",
       "    </tr>\n",
       "    <tr>\n",
       "      <th id=\"T_535ec_level0_row1\" class=\"row_heading level0 row1\" >1991</th>\n",
       "      <td id=\"T_535ec_row1_col0\" class=\"data row1 col0\" >4916761799112018</td>\n",
       "      <td id=\"T_535ec_row1_col1\" class=\"data row1 col1\" >visa</td>\n",
       "      <td id=\"T_535ec_row1_col2\" class=\"data row1 col2\" >11/25</td>\n",
       "    </tr>\n",
       "    <tr>\n",
       "      <th id=\"T_535ec_level0_row2\" class=\"row_heading level0 row2\" >1992</th>\n",
       "      <td id=\"T_535ec_row2_col0\" class=\"data row2 col0\" >4732812655318868</td>\n",
       "      <td id=\"T_535ec_row2_col1\" class=\"data row2 col1\" >visa</td>\n",
       "      <td id=\"T_535ec_row2_col2\" class=\"data row2 col2\" >06/26</td>\n",
       "    </tr>\n",
       "    <tr>\n",
       "      <th id=\"T_535ec_level0_row3\" class=\"row_heading level0 row3\" >1993</th>\n",
       "      <td id=\"T_535ec_row3_col0\" class=\"data row3 col0\" >4687136342533753</td>\n",
       "      <td id=\"T_535ec_row3_col1\" class=\"data row3 col1\" >visa</td>\n",
       "      <td id=\"T_535ec_row3_col2\" class=\"data row3 col2\" >02/26</td>\n",
       "    </tr>\n",
       "    <tr>\n",
       "      <th id=\"T_535ec_level0_row4\" class=\"row_heading level0 row4\" >1994</th>\n",
       "      <td id=\"T_535ec_row4_col0\" class=\"data row4 col0\" >4763158569828903</td>\n",
       "      <td id=\"T_535ec_row4_col1\" class=\"data row4 col1\" >visa</td>\n",
       "      <td id=\"T_535ec_row4_col2\" class=\"data row4 col2\" >11/25</td>\n",
       "    </tr>\n",
       "    <tr>\n",
       "      <th id=\"T_535ec_level0_row5\" class=\"row_heading level0 row5\" >1995</th>\n",
       "      <td id=\"T_535ec_row5_col0\" class=\"data row5 col0\" >4473593503484549</td>\n",
       "      <td id=\"T_535ec_row5_col1\" class=\"data row5 col1\" >visa</td>\n",
       "      <td id=\"T_535ec_row5_col2\" class=\"data row5 col2\" >01/26</td>\n",
       "    </tr>\n",
       "    <tr>\n",
       "      <th id=\"T_535ec_level0_row6\" class=\"row_heading level0 row6\" >1996</th>\n",
       "      <td id=\"T_535ec_row6_col0\" class=\"data row6 col0\" >4483607926610254</td>\n",
       "      <td id=\"T_535ec_row6_col1\" class=\"data row6 col1\" >visa</td>\n",
       "      <td id=\"T_535ec_row6_col2\" class=\"data row6 col2\" >08/26</td>\n",
       "    </tr>\n",
       "    <tr>\n",
       "      <th id=\"T_535ec_level0_row7\" class=\"row_heading level0 row7\" >1997</th>\n",
       "      <td id=\"T_535ec_row7_col0\" class=\"data row7 col0\" >4249540384047310</td>\n",
       "      <td id=\"T_535ec_row7_col1\" class=\"data row7 col1\" >visa</td>\n",
       "      <td id=\"T_535ec_row7_col2\" class=\"data row7 col2\" >10/22</td>\n",
       "    </tr>\n",
       "    <tr>\n",
       "      <th id=\"T_535ec_level0_row8\" class=\"row_heading level0 row8\" >1998</th>\n",
       "      <td id=\"T_535ec_row8_col0\" class=\"data row8 col0\" >4325889817240225</td>\n",
       "      <td id=\"T_535ec_row8_col1\" class=\"data row8 col1\" >visa</td>\n",
       "      <td id=\"T_535ec_row8_col2\" class=\"data row8 col2\" >03/24</td>\n",
       "    </tr>\n",
       "    <tr>\n",
       "      <th id=\"T_535ec_level0_row9\" class=\"row_heading level0 row9\" >1999</th>\n",
       "      <td id=\"T_535ec_row9_col0\" class=\"data row9 col0\" >4653925648407310</td>\n",
       "      <td id=\"T_535ec_row9_col1\" class=\"data row9 col1\" >visa</td>\n",
       "      <td id=\"T_535ec_row9_col2\" class=\"data row9 col2\" >04/22</td>\n",
       "    </tr>\n",
       "  </tbody>\n",
       "</table>\n"
      ],
      "text/plain": [
       "<pandas.io.formats.style.Styler at 0x7fbbc8960d90>"
      ]
     },
     "execution_count": 18,
     "metadata": {},
     "output_type": "execute_result"
    }
   ],
   "source": [
    "df.tail(10).style.set_caption(\"Dataset Preview\").set_table_attributes('style=\"width:100%\"')\n"
   ]
  },
  {
   "cell_type": "code",
   "execution_count": 19,
   "id": "4cc7c6f5",
   "metadata": {},
   "outputs": [
    {
     "data": {
      "text/html": [
       "<style type=\"text/css\">\n",
       "</style>\n",
       "<table id=\"T_8d02d\" style=\"width:100%\">\n",
       "  <caption>Dataset Preview</caption>\n",
       "  <thead>\n",
       "    <tr>\n",
       "      <th class=\"blank level0\" >&nbsp;</th>\n",
       "      <th id=\"T_8d02d_level0_col0\" class=\"col_heading level0 col0\" >cc_num</th>\n",
       "      <th id=\"T_8d02d_level0_col1\" class=\"col_heading level0 col1\" >provider</th>\n",
       "      <th id=\"T_8d02d_level0_col2\" class=\"col_heading level0 col2\" >expires</th>\n",
       "    </tr>\n",
       "  </thead>\n",
       "  <tbody>\n",
       "    <tr>\n",
       "      <th id=\"T_8d02d_level0_row0\" class=\"row_heading level0 row0\" >0</th>\n",
       "      <td id=\"T_8d02d_row0_col0\" class=\"data row0 col0\" >4796807885357879</td>\n",
       "      <td id=\"T_8d02d_row0_col1\" class=\"data row0 col1\" >visa</td>\n",
       "      <td id=\"T_8d02d_row0_col2\" class=\"data row0 col2\" >05/23</td>\n",
       "    </tr>\n",
       "    <tr>\n",
       "      <th id=\"T_8d02d_level0_row1\" class=\"row_heading level0 row1\" >1</th>\n",
       "      <td id=\"T_8d02d_row1_col0\" class=\"data row1 col0\" >4529266636192966</td>\n",
       "      <td id=\"T_8d02d_row1_col1\" class=\"data row1 col1\" >visa</td>\n",
       "      <td id=\"T_8d02d_row1_col2\" class=\"data row1 col2\" >03/22</td>\n",
       "    </tr>\n",
       "    <tr>\n",
       "      <th id=\"T_8d02d_level0_row2\" class=\"row_heading level0 row2\" >2</th>\n",
       "      <td id=\"T_8d02d_row2_col0\" class=\"data row2 col0\" >4922690008243953</td>\n",
       "      <td id=\"T_8d02d_row2_col1\" class=\"data row2 col1\" >visa</td>\n",
       "      <td id=\"T_8d02d_row2_col2\" class=\"data row2 col2\" >02/27</td>\n",
       "    </tr>\n",
       "    <tr>\n",
       "      <th id=\"T_8d02d_level0_row3\" class=\"row_heading level0 row3\" >3</th>\n",
       "      <td id=\"T_8d02d_row3_col0\" class=\"data row3 col0\" >4897369589533543</td>\n",
       "      <td id=\"T_8d02d_row3_col1\" class=\"data row3 col1\" >visa</td>\n",
       "      <td id=\"T_8d02d_row3_col2\" class=\"data row3 col2\" >04/22</td>\n",
       "    </tr>\n",
       "    <tr>\n",
       "      <th id=\"T_8d02d_level0_row4\" class=\"row_heading level0 row4\" >4</th>\n",
       "      <td id=\"T_8d02d_row4_col0\" class=\"data row4 col0\" >4848518335893425</td>\n",
       "      <td id=\"T_8d02d_row4_col1\" class=\"data row4 col1\" >visa</td>\n",
       "      <td id=\"T_8d02d_row4_col2\" class=\"data row4 col2\" >10/26</td>\n",
       "    </tr>\n",
       "    <tr>\n",
       "      <th id=\"T_8d02d_level0_row5\" class=\"row_heading level0 row5\" >5</th>\n",
       "      <td id=\"T_8d02d_row5_col0\" class=\"data row5 col0\" >4419981075128775</td>\n",
       "      <td id=\"T_8d02d_row5_col1\" class=\"data row5 col1\" >visa</td>\n",
       "      <td id=\"T_8d02d_row5_col2\" class=\"data row5 col2\" >02/24</td>\n",
       "    </tr>\n",
       "    <tr>\n",
       "      <th id=\"T_8d02d_level0_row6\" class=\"row_heading level0 row6\" >6</th>\n",
       "      <td id=\"T_8d02d_row6_col0\" class=\"data row6 col0\" >4477118491352015</td>\n",
       "      <td id=\"T_8d02d_row6_col1\" class=\"data row6 col1\" >visa</td>\n",
       "      <td id=\"T_8d02d_row6_col2\" class=\"data row6 col2\" >08/24</td>\n",
       "    </tr>\n",
       "    <tr>\n",
       "      <th id=\"T_8d02d_level0_row7\" class=\"row_heading level0 row7\" >7</th>\n",
       "      <td id=\"T_8d02d_row7_col0\" class=\"data row7 col0\" >4077895609058196</td>\n",
       "      <td id=\"T_8d02d_row7_col1\" class=\"data row7 col1\" >visa</td>\n",
       "      <td id=\"T_8d02d_row7_col2\" class=\"data row7 col2\" >11/26</td>\n",
       "    </tr>\n",
       "    <tr>\n",
       "      <th id=\"T_8d02d_level0_row8\" class=\"row_heading level0 row8\" >8</th>\n",
       "      <td id=\"T_8d02d_row8_col0\" class=\"data row8 col0\" >4540702654946326</td>\n",
       "      <td id=\"T_8d02d_row8_col1\" class=\"data row8 col1\" >visa</td>\n",
       "      <td id=\"T_8d02d_row8_col2\" class=\"data row8 col2\" >05/25</td>\n",
       "    </tr>\n",
       "    <tr>\n",
       "      <th id=\"T_8d02d_level0_row9\" class=\"row_heading level0 row9\" >9</th>\n",
       "      <td id=\"T_8d02d_row9_col0\" class=\"data row9 col0\" >4577917577528649</td>\n",
       "      <td id=\"T_8d02d_row9_col1\" class=\"data row9 col1\" >visa</td>\n",
       "      <td id=\"T_8d02d_row9_col2\" class=\"data row9 col2\" >05/27</td>\n",
       "    </tr>\n",
       "  </tbody>\n",
       "</table>\n"
      ],
      "text/plain": [
       "<pandas.io.formats.style.Styler at 0x7fbbc8963550>"
      ]
     },
     "execution_count": 19,
     "metadata": {},
     "output_type": "execute_result"
    }
   ],
   "source": [
    "df.head(10).style.set_caption(\"Dataset Preview\").set_table_attributes('style=\"width:100%\"')"
   ]
  }
 ],
 "metadata": {
  "kernelspec": {
   "display_name": ".venv",
   "language": "python",
   "name": "python3"
  },
  "language_info": {
   "codemirror_mode": {
    "name": "ipython",
    "version": 3
   },
   "file_extension": ".py",
   "mimetype": "text/x-python",
   "name": "python",
   "nbconvert_exporter": "python",
   "pygments_lexer": "ipython3",
   "version": "3.11.9"
  }
 },
 "nbformat": 4,
 "nbformat_minor": 5
}
